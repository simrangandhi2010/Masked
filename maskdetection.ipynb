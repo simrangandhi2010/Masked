import cv2
img = cv2.imread(r'C:\Users\gandh\anaconda3\pkgs\opencv-4.0.1-py38h2a7c758_0\info\2.jpeg')
img.shape
img[0]
import matplotlib.pyplot as plt
plt.imshow(img)
while  True:
    cv2.imshow('result',img)
    if cv2.waitKey(2)==27:
        break
cv2.destroyAllWindows()
haar_data=cv2.CascadeClassifier(r'C:\Users\gandh\anaconda3\pkgs\opencv-4.0.1-py38h2a7c758_0\info\haarcascade_frontalface_default.xml')
haar_data. detectMultiScale(img)
while  True:
    faces = haar_data. detectMultiScale(img)
    for x,y,w,h in faces:
        cv2.rectangle(img, (x,y) , (x+w,y+h), (255,0,255), 4)
    cv2.imshow('result',img)
    if cv2.waitKey(2)==27:
        break
cv2.destroyAllWindows()
capture = cv2.VideoCapture(0)
data = []
while True:
    flag, img = capture.read()
    if flag:
        faces = haar_data. detectMultiScale(img)
        for x,y,w,h in faces:
            cv2.rectangle(img, (x,y) , (x+w,y+h), (255,0,255), 4)
            face = img[y:y+h , x:x+w , :]
            face = cv2.resize(face, (50,50))
            face = pca.transform(face)
            pred = svm.predict(face)
            n = names[int(pred)]
            print(n)
    cv2.imshow('result',img)
    if cv2.waitKey(2)==27 or len(data) >= 200:
        break
capture.release()
cv2.destroyAllWindows()
import numpy as np
np.save('without_mask.npy', data)
np.save('with_mask.npy',data)
plt.imshow(data[0])
